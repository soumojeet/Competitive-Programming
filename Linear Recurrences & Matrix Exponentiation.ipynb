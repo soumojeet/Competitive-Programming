{
 "cells": [
  {
   "cell_type": "markdown",
   "id": "c1b5b990",
   "metadata": {},
   "source": [
    "# Binary Exponentiation"
   ]
  },
  {
   "cell_type": "code",
   "execution_count": 1,
   "id": "926bbdfa",
   "metadata": {},
   "outputs": [
    {
     "name": "stdout",
     "output_type": "stream",
     "text": [
      "1024\n"
     ]
    }
   ],
   "source": [
    "a, b = 2, 10\n",
    "result = 1\n",
    "while b:\n",
    "    if b&1:\n",
    "        result *= a\n",
    "    a = a*a\n",
    "    b = b>>1\n",
    "print(result)"
   ]
  },
  {
   "cell_type": "markdown",
   "id": "df30d560",
   "metadata": {},
   "source": [
    "# Modular Exponentiation"
   ]
  },
  {
   "cell_type": "code",
   "execution_count": 2,
   "id": "b3bedabb",
   "metadata": {},
   "outputs": [
    {
     "name": "stdout",
     "output_type": "stream",
     "text": [
      "976371285\n"
     ]
    }
   ],
   "source": [
    "mod = int(1e9+7)\n",
    "a, b = 2, 100\n",
    "result = 1\n",
    "while b:\n",
    "    if b&1:\n",
    "        result *= a\n",
    "        result = result%mod\n",
    "    a = a*a\n",
    "    a = a%mod\n",
    "    b = b>>1\n",
    "print(result)"
   ]
  },
  {
   "cell_type": "markdown",
   "id": "5a3300d4",
   "metadata": {},
   "source": [
    "# Fast Multiplication"
   ]
  },
  {
   "cell_type": "code",
   "execution_count": 3,
   "id": "72083ea8",
   "metadata": {},
   "outputs": [
    {
     "name": "stdout",
     "output_type": "stream",
     "text": [
      "20\n"
     ]
    }
   ],
   "source": [
    "a, b = 2, 10\n",
    "result = 0\n",
    "while b:\n",
    "    if b&1:\n",
    "        result += a\n",
    "    a = a+a\n",
    "    b = b>>1\n",
    "print(result)"
   ]
  },
  {
   "cell_type": "markdown",
   "id": "91e91890",
   "metadata": {},
   "source": [
    "# Modular Multiplication"
   ]
  },
  {
   "cell_type": "code",
   "execution_count": 4,
   "id": "69d91eec",
   "metadata": {},
   "outputs": [
    {
     "name": "stdout",
     "output_type": "stream",
     "text": [
      "200\n"
     ]
    }
   ],
   "source": [
    "a, b = 2, 100\n",
    "result = 0\n",
    "while b:\n",
    "    if b&1:\n",
    "        result += a\n",
    "        result = result%mod\n",
    "    a = a+a\n",
    "    a = a%mod\n",
    "    b = b>>1\n",
    "print(result)"
   ]
  },
  {
   "cell_type": "markdown",
   "id": "9fdaee29",
   "metadata": {},
   "source": [
    "# Matrix Exponentiation"
   ]
  },
  {
   "cell_type": "code",
   "execution_count": 5,
   "id": "84e49696",
   "metadata": {},
   "outputs": [],
   "source": [
    "def identity():\n",
    "    result = []\n",
    "    for i in range(2):\n",
    "        result.append([0]*2)\n",
    "        result[i][i] = 1\n",
    "    return result"
   ]
  },
  {
   "cell_type": "code",
   "execution_count": 6,
   "id": "75acd49f",
   "metadata": {},
   "outputs": [],
   "source": [
    "def matmul(A, B):\n",
    "    result = [[0, 0], [0, 0]]\n",
    "    for i in range(2):\n",
    "        for j in range(2):\n",
    "            for k in range(2):\n",
    "                result[i][j] += A[i][k] * B[k][j]\n",
    "    return result"
   ]
  },
  {
   "cell_type": "code",
   "execution_count": 7,
   "id": "6312738d",
   "metadata": {},
   "outputs": [],
   "source": [
    "def fibonacci(n):\n",
    "    if n <= 2:\n",
    "        return 1\n",
    "    else:\n",
    "        T = [[1,1],[1,0]]\n",
    "        result = identity()\n",
    "        n -= 2\n",
    "        while n:\n",
    "            if n&1:\n",
    "                result = matmul(result,T)\n",
    "            T = matmul(T,T)\n",
    "            n = n>>1\n",
    "        return result[0][0]+result[0][1]"
   ]
  },
  {
   "cell_type": "code",
   "execution_count": 8,
   "id": "4812834c",
   "metadata": {},
   "outputs": [
    {
     "data": {
      "text/plain": [
       "55"
      ]
     },
     "execution_count": 8,
     "metadata": {},
     "output_type": "execute_result"
    }
   ],
   "source": [
    "fibonacci(10)"
   ]
  }
 ],
 "metadata": {
  "kernelspec": {
   "display_name": "Python 3 (ipykernel)",
   "language": "python",
   "name": "python3"
  },
  "language_info": {
   "codemirror_mode": {
    "name": "ipython",
    "version": 3
   },
   "file_extension": ".py",
   "mimetype": "text/x-python",
   "name": "python",
   "nbconvert_exporter": "python",
   "pygments_lexer": "ipython3",
   "version": "3.10.9"
  }
 },
 "nbformat": 4,
 "nbformat_minor": 5
}
