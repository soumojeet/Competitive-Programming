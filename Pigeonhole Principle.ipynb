{
 "cells": [
  {
   "cell_type": "markdown",
   "id": "093639a6",
   "metadata": {},
   "source": [
    "# Divisible Subset"
   ]
  },
  {
   "cell_type": "code",
   "execution_count": 1,
   "id": "6363519a",
   "metadata": {},
   "outputs": [
    {
     "name": "stdout",
     "output_type": "stream",
     "text": [
      "3\n"
     ]
    }
   ],
   "source": [
    "arr = [4,6,9]\n",
    "n = len(arr)\n",
    "\n",
    "for i in range(1,n):\n",
    "    arr[i] += arr[i-1]\n",
    "    \n",
    "for i in range(n):\n",
    "    arr[i] %= n\n",
    "\n",
    "count = 0\n",
    "for i in range(n):\n",
    "    if arr[i] == 0:\n",
    "        count += 1\n",
    "    else:\n",
    "        for j in range(i+1, n):\n",
    "            if arr[i] == arr[j]:\n",
    "                count += 1\n",
    "print(count)"
   ]
  },
  {
   "cell_type": "markdown",
   "id": "75ce0afe",
   "metadata": {},
   "source": [
    "# Gray Code Similar"
   ]
  },
  {
   "cell_type": "code",
   "execution_count": 2,
   "id": "b2ca0e2a",
   "metadata": {},
   "outputs": [
    {
     "name": "stdout",
     "output_type": "stream",
     "text": [
      "Yes\n"
     ]
    }
   ],
   "source": [
    "arr = [1,0,2,3,7]\n",
    "n = len(arr)\n",
    "  \n",
    "flag = False    \n",
    "    \n",
    "if n >= 130:\n",
    "    flag = True\n",
    "else:\n",
    "    for i in range(n):\n",
    "        s = set()\n",
    "        for j in range(i+1,n):\n",
    "            for k in range(j+1,n):\n",
    "                for l in range(k+1,n):\n",
    "                    if arr[i]^arr[j]^arr[k]^arr[l] == 0:\n",
    "                        flag = True\n",
    "if flag:\n",
    "    print(\"Yes\")\n",
    "else:\n",
    "    print(\"No\")"
   ]
  }
 ],
 "metadata": {
  "kernelspec": {
   "display_name": "Python 3 (ipykernel)",
   "language": "python",
   "name": "python3"
  },
  "language_info": {
   "codemirror_mode": {
    "name": "ipython",
    "version": 3
   },
   "file_extension": ".py",
   "mimetype": "text/x-python",
   "name": "python",
   "nbconvert_exporter": "python",
   "pygments_lexer": "ipython3",
   "version": "3.10.9"
  }
 },
 "nbformat": 4,
 "nbformat_minor": 5
}
