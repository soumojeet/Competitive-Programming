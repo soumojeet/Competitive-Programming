{
 "cells": [
  {
   "cell_type": "markdown",
   "id": "d8100f67",
   "metadata": {},
   "source": [
    "# Total No Divisor Till N"
   ]
  },
  {
   "cell_type": "code",
   "execution_count": 1,
   "id": "fa1d569b",
   "metadata": {},
   "outputs": [
    {
     "name": "stdout",
     "output_type": "stream",
     "text": [
      "8426\n"
     ]
    }
   ],
   "source": [
    "n = 10000\n",
    "primes = [2,3,5,7,11,13,17,19,23,29]\n",
    "m = len(primes)\n",
    "ans = 0 \n",
    "for i in range(1,1<<m):\n",
    "    val = 1\n",
    "    for j in range(m):\n",
    "        if i>>j&1:\n",
    "            val*=primes[j]\n",
    "    bits = 0\n",
    "    while i:\n",
    "        if i&1:\n",
    "            bits+=1\n",
    "        i = i>>1\n",
    "    if bits&1:\n",
    "        ans += (n//val)\n",
    "    else:\n",
    "        ans -= (n//val)\n",
    "print(ans)"
   ]
  }
 ],
 "metadata": {
  "kernelspec": {
   "display_name": "Python 3 (ipykernel)",
   "language": "python",
   "name": "python3"
  },
  "language_info": {
   "codemirror_mode": {
    "name": "ipython",
    "version": 3
   },
   "file_extension": ".py",
   "mimetype": "text/x-python",
   "name": "python",
   "nbconvert_exporter": "python",
   "pygments_lexer": "ipython3",
   "version": "3.10.9"
  }
 },
 "nbformat": 4,
 "nbformat_minor": 5
}
