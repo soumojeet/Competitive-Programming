{
 "cells": [
  {
   "cell_type": "markdown",
   "id": "d89370c7",
   "metadata": {},
   "source": [
    "# Big Addition"
   ]
  },
  {
   "cell_type": "code",
   "execution_count": 1,
   "id": "49cceec9",
   "metadata": {},
   "outputs": [
    {
     "name": "stdout",
     "output_type": "stream",
     "text": [
      "1824691357802469824778024691357802475782478025802580242477802578025780\n"
     ]
    }
   ],
   "source": [
    "num1 = \"912345678901234912389012345678901237891239012901290121238901289012890\"\n",
    "num2 = \"912345678901234912389012345678901237891239012901290121238901289012890\"\n",
    "\n",
    "i = len(num1)-1\n",
    "j = len(num2)-1\n",
    "carry = 0\n",
    "result = \"\"\n",
    "\n",
    "while i>=0 and j>=0:\n",
    "    carry += int(num1[i]) + int(num2[j])\n",
    "    i, j = i-1, j-1\n",
    "    last_digit = carry%10\n",
    "    carry = carry//10\n",
    "    result = str(last_digit) + result\n",
    "\n",
    "while i>=0:\n",
    "    carry += int(num1[i]) \n",
    "    i = i-1\n",
    "    last_digit = carry%10\n",
    "    carry = carry//10\n",
    "    result = str(last_digit) + result\n",
    "while j>=0:\n",
    "    carry += int(num2[j])\n",
    "    j = j-1\n",
    "    last_digit = carry%10\n",
    "    carry = carry//10\n",
    "    result = str(last_digit) + result\n",
    "    \n",
    "if carry:\n",
    "    result = str(carry) + result\n",
    "\n",
    "print(result)"
   ]
  },
  {
   "cell_type": "markdown",
   "id": "59a59ef4",
   "metadata": {},
   "source": [
    "# Array & Integer Multiplication"
   ]
  },
  {
   "cell_type": "code",
   "execution_count": 2,
   "id": "c600499d",
   "metadata": {},
   "outputs": [],
   "source": [
    "def multiplication(num1, num2):\n",
    "    if num1 == '0' or num2 == '0':\n",
    "        return '0'\n",
    "    \n",
    "    i = len(num1)-1\n",
    "    carry = 0\n",
    "    result = \"\"\n",
    "\n",
    "    while i>=0:\n",
    "        carry += int(num1[i]) * int(num2)\n",
    "        i = i-1\n",
    "        last_digit = carry%10\n",
    "        carry = carry//10\n",
    "        result = str(last_digit) + result\n",
    "    \n",
    "    if carry:\n",
    "        result = str(carry) + result\n",
    "\n",
    "    return result"
   ]
  },
  {
   "cell_type": "code",
   "execution_count": 3,
   "id": "0d972629",
   "metadata": {},
   "outputs": [],
   "source": [
    "def factorial(num):\n",
    "    if num==1:\n",
    "        return '1'\n",
    "    num1 = str(num)\n",
    "    num2 = num-1\n",
    "    \n",
    "    return multiplication(factorial(num2), num1)"
   ]
  },
  {
   "cell_type": "markdown",
   "id": "99382c09",
   "metadata": {},
   "source": [
    "# Large Factorial"
   ]
  },
  {
   "cell_type": "code",
   "execution_count": 4,
   "id": "f26be4de",
   "metadata": {},
   "outputs": [
    {
     "name": "stdout",
     "output_type": "stream",
     "text": [
      "30414093201713378043612608166064768844377641568960512000000000000\n"
     ]
    }
   ],
   "source": [
    "print(factorial(50))"
   ]
  }
 ],
 "metadata": {
  "kernelspec": {
   "display_name": "Python 3 (ipykernel)",
   "language": "python",
   "name": "python3"
  },
  "language_info": {
   "codemirror_mode": {
    "name": "ipython",
    "version": 3
   },
   "file_extension": ".py",
   "mimetype": "text/x-python",
   "name": "python",
   "nbconvert_exporter": "python",
   "pygments_lexer": "ipython3",
   "version": "3.10.9"
  }
 },
 "nbformat": 4,
 "nbformat_minor": 5
}
