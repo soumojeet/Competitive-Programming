{
 "cells": [
  {
   "cell_type": "markdown",
   "id": "c5661fb5",
   "metadata": {},
   "source": [
    "# Unique Numbers I"
   ]
  },
  {
   "cell_type": "code",
   "execution_count": 1,
   "id": "7938d3b9",
   "metadata": {},
   "outputs": [
    {
     "name": "stdout",
     "output_type": "stream",
     "text": [
      "4\n"
     ]
    }
   ],
   "source": [
    "arr = [1,3,5,4,3,1,5]\n",
    "xor = 0\n",
    "\n",
    "for i in arr:\n",
    "    xor ^= i\n",
    "print(xor)"
   ]
  },
  {
   "cell_type": "markdown",
   "id": "7a58419f",
   "metadata": {},
   "source": [
    "# Unique Numbers II"
   ]
  },
  {
   "cell_type": "code",
   "execution_count": 2,
   "id": "d140db2d",
   "metadata": {},
   "outputs": [
    {
     "name": "stdout",
     "output_type": "stream",
     "text": [
      "7 4\n"
     ]
    }
   ],
   "source": [
    "arr = [1,3,5,4,3,1,5,7]\n",
    "xor = 0\n",
    "\n",
    "for i in arr:\n",
    "    xor ^= i\n",
    "\n",
    "n = xor\n",
    "pos = 0\n",
    "\n",
    "while n:\n",
    "    if n&1:\n",
    "        break\n",
    "    pos += 1\n",
    "\n",
    "a = []\n",
    "\n",
    "for i in arr:\n",
    "    if i&(1<<pos):\n",
    "        a.append(i)\n",
    "    \n",
    "e1 = 0\n",
    "e2 = 0\n",
    "\n",
    "for i in a:\n",
    "    e1 ^= i\n",
    "e2 = xor ^ e1\n",
    "\n",
    "print(e1, e2)"
   ]
  },
  {
   "cell_type": "markdown",
   "id": "e2a17ec9",
   "metadata": {},
   "source": [
    "# Unique Numbers III"
   ]
  },
  {
   "cell_type": "code",
   "execution_count": 3,
   "id": "600bf600",
   "metadata": {},
   "outputs": [
    {
     "name": "stdout",
     "output_type": "stream",
     "text": [
      "4\n"
     ]
    }
   ],
   "source": [
    "arr = [1,3,5,4,3,1,5,5,3,1]\n",
    "sum_arr = [0] * 32\n",
    "\n",
    "for x in arr:\n",
    "    i = 0\n",
    "    while x:\n",
    "        sum_arr[i] += (x&1)\n",
    "        i += 1\n",
    "        x = x>>1\n",
    "        \n",
    "sum_arr = list(map(lambda x: x % 3, sum_arr))\n",
    "\n",
    "result = 0\n",
    "\n",
    "for i in range(32):\n",
    "    result += sum_arr[i]*(2**i)\n",
    "    \n",
    "print(result)"
   ]
  },
  {
   "cell_type": "markdown",
   "id": "1cd0d4c7",
   "metadata": {},
   "source": [
    "# Subsets"
   ]
  },
  {
   "cell_type": "code",
   "execution_count": 4,
   "id": "e550ed38",
   "metadata": {},
   "outputs": [
    {
     "name": "stdout",
     "output_type": "stream",
     "text": [
      "\n",
      "a\n",
      "b\n",
      "ab\n",
      "c\n",
      "ac\n",
      "bc\n",
      "abc\n",
      "d\n",
      "ad\n",
      "bd\n",
      "abd\n",
      "cd\n",
      "acd\n",
      "bcd\n",
      "abcd\n",
      "e\n",
      "ae\n",
      "be\n",
      "abe\n",
      "ce\n",
      "ace\n",
      "bce\n",
      "abce\n",
      "de\n",
      "ade\n",
      "bde\n",
      "abde\n",
      "cde\n",
      "acde\n",
      "bcde\n",
      "abcde\n",
      "f\n",
      "af\n",
      "bf\n",
      "abf\n",
      "cf\n",
      "acf\n",
      "bcf\n",
      "abcf\n",
      "df\n",
      "adf\n",
      "bdf\n",
      "abdf\n",
      "cdf\n",
      "acdf\n",
      "bcdf\n",
      "abcdf\n",
      "ef\n",
      "aef\n",
      "bef\n",
      "abef\n",
      "cef\n",
      "acef\n",
      "bcef\n",
      "abcef\n",
      "def\n",
      "adef\n",
      "bdef\n",
      "abdef\n",
      "cdef\n",
      "acdef\n",
      "bcdef\n",
      "abcdef\n"
     ]
    }
   ],
   "source": [
    "s = 'abcdef'\n",
    "n = len(s)\n",
    "\n",
    "for x in range(1<<n):\n",
    "    sub = \"\"\n",
    "    i = 0\n",
    "    while x:\n",
    "        if x&1:\n",
    "            sub += s[i]\n",
    "        i += 1\n",
    "        x = x>>1\n",
    "    print(sub)"
   ]
  }
 ],
 "metadata": {
  "kernelspec": {
   "display_name": "Python 3 (ipykernel)",
   "language": "python",
   "name": "python3"
  },
  "language_info": {
   "codemirror_mode": {
    "name": "ipython",
    "version": 3
   },
   "file_extension": ".py",
   "mimetype": "text/x-python",
   "name": "python",
   "nbconvert_exporter": "python",
   "pygments_lexer": "ipython3",
   "version": "3.10.9"
  }
 },
 "nbformat": 4,
 "nbformat_minor": 5
}
