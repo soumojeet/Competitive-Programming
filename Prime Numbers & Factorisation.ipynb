{
 "cells": [
  {
   "cell_type": "markdown",
   "id": "51954e48",
   "metadata": {},
   "source": [
    "# Primes Till N"
   ]
  },
  {
   "cell_type": "code",
   "execution_count": 1,
   "id": "942cbf49",
   "metadata": {},
   "outputs": [
    {
     "name": "stdout",
     "output_type": "stream",
     "text": [
      "2 3 5 7 11 13 17 19 23 29 31 37 41 43 47 53 59 61 67 71 73 79 83 89 97 "
     ]
    }
   ],
   "source": [
    "def isPrime(n):\n",
    "    for i in range(2,int(n**0.5)+1):\n",
    "        if n % i == 0:\n",
    "            return False\n",
    "    return True\n",
    "    \n",
    "n = 100\n",
    "\n",
    "for i in range(2,n+1):\n",
    "    if isPrime(i):\n",
    "        print(i, end=\" \")"
   ]
  },
  {
   "cell_type": "markdown",
   "id": "a72a5d84",
   "metadata": {},
   "source": [
    "# Prime Sieve"
   ]
  },
  {
   "cell_type": "code",
   "execution_count": 2,
   "id": "e420c8d3",
   "metadata": {},
   "outputs": [
    {
     "name": "stdout",
     "output_type": "stream",
     "text": [
      "2 3 5 7 11 13 17 19 23 29 31 37 41 43 47 53 59 61 67 71 73 79 83 89 97 "
     ]
    }
   ],
   "source": [
    "n = 100\n",
    "sieve = [1]*(n+1)\n",
    "\n",
    "sieve[0] = sieve[1] = 0\n",
    "\n",
    "for i in range(2,n+1):\n",
    "    if sieve[i] == 1:\n",
    "        print(i, end=\" \")\n",
    "        for j in range(i*i,n+1,i):\n",
    "            sieve[j] = 0"
   ]
  },
  {
   "cell_type": "markdown",
   "id": "52a65500",
   "metadata": {},
   "source": [
    "# Prime Queries"
   ]
  },
  {
   "cell_type": "code",
   "execution_count": 3,
   "id": "ec528a80",
   "metadata": {},
   "outputs": [
    {
     "name": "stdout",
     "output_type": "stream",
     "text": [
      "5\n"
     ]
    }
   ],
   "source": [
    "n = 25\n",
    "sieve = [1]*(n+1)\n",
    "\n",
    "sieve[0] = sieve[1] = 0\n",
    "\n",
    "for i in range(2,n+1):\n",
    "    if sieve[i] == 1:\n",
    "        for j in range(i*i,n+1,i):\n",
    "            sieve[j] = 0\n",
    "\n",
    "for i in range(1,n+1):\n",
    "    sieve[i] += sieve[i-1]\n",
    "    \n",
    "a, b = 2, 11\n",
    "\n",
    "print(sieve[b] - sieve[a-1])"
   ]
  },
  {
   "cell_type": "markdown",
   "id": "93edc3d6",
   "metadata": {},
   "source": [
    "# Prime Factorisation"
   ]
  },
  {
   "cell_type": "code",
   "execution_count": 4,
   "id": "3172c6b8",
   "metadata": {},
   "outputs": [
    {
     "name": "stdout",
     "output_type": "stream",
     "text": [
      "N Solution\n",
      "2^1 3^1 5^1 7^1 11^1 13^1 17^1 19^1 23^1 \n",
      "SQRT(N) Solution\n",
      "2^1 3^1 5^1 7^1 11^1 13^1 17^1 19^1 23^1\n"
     ]
    }
   ],
   "source": [
    "#O(N)\n",
    "print(\"N Solution\")\n",
    "n = 223092870\n",
    "i = 2\n",
    "while i <= n:\n",
    "    if n%i == 0:\n",
    "        count = 0\n",
    "        while n%i == 0:\n",
    "            count += 1\n",
    "            n = n//i\n",
    "        print(f'{i}^{count}',end=\" \")\n",
    "    i += 1\n",
    "\n",
    "#O(SQRT(N))\n",
    "print(\"\\nSQRT(N) Solution\")\n",
    "n = 223092870\n",
    "i = 2\n",
    "while i*i <= n:\n",
    "    if n%i == 0:\n",
    "        count = 0\n",
    "        while n%i == 0:\n",
    "            count += 1\n",
    "            n = n//i\n",
    "        print(f'{i}^{count}',end=\" \")\n",
    "    i += 1\n",
    "if n!= 1:\n",
    "    print(f'{n}^1')"
   ]
  },
  {
   "cell_type": "markdown",
   "id": "7ee624e7",
   "metadata": {},
   "source": [
    "# Prime Factorisation Using Sieve"
   ]
  },
  {
   "cell_type": "code",
   "execution_count": 5,
   "id": "77229243",
   "metadata": {},
   "outputs": [
    {
     "name": "stdout",
     "output_type": "stream",
     "text": [
      "2 2 2 3 3\n"
     ]
    }
   ],
   "source": [
    "n = 100\n",
    "sieve = [1]*(n+1)\n",
    "\n",
    "sieve[0], sieve[1] = 0, 1\n",
    "\n",
    "for i in range(2,n+1):\n",
    "    if sieve[i] == 1:\n",
    "        for j in range(i,n+1,i):\n",
    "            if sieve[j] == 1:\n",
    "                sieve[j] = i\n",
    "factors = []\n",
    "n = 72\n",
    "while n != 1:\n",
    "    factors.append(sieve[n])\n",
    "    n = n//sieve[n]\n",
    "    \n",
    "print(*factors)"
   ]
  }
 ],
 "metadata": {
  "kernelspec": {
   "display_name": "Python 3 (ipykernel)",
   "language": "python",
   "name": "python3"
  },
  "language_info": {
   "codemirror_mode": {
    "name": "ipython",
    "version": 3
   },
   "file_extension": ".py",
   "mimetype": "text/x-python",
   "name": "python",
   "nbconvert_exporter": "python",
   "pygments_lexer": "ipython3",
   "version": "3.10.9"
  }
 },
 "nbformat": 4,
 "nbformat_minor": 5
}
